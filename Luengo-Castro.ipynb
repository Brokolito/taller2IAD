{
 "cells": [
  {
   "cell_type": "markdown",
   "metadata": {
    "slideshow": {
     "slide_type": "slide"
    }
   },
   "source": [
    "# Intro al análisis de datos - ICC732\n",
    "## Taller 3"
   ]
  },
  {
   "cell_type": "markdown",
   "metadata": {},
   "source": [
    "### Instrucciones"
   ]
  },
  {
   "cell_type": "markdown",
   "metadata": {},
   "source": [
    "## **Equipos**\n",
    "- Trabaje en grupos de 3 integrantes.\n",
    "- No se aceptan grupos de 4 integrantes\n",
    "- Si no cumple este requisito contacte al profesor.\n",
    "\n",
    "**Evaluación**\n",
    "- Parte 1: 6 tareas -> 0-3 puntos cada una.\n",
    "- Parte 2: 1 tarea  -> 0-3 puntos cada una.\n",
    "- Parte 3: 4 tareas -> 0-3 puntos cada una.\n",
    "\n",
    "**Reglamento**\n",
    "- Preguntas similares entre grupos, reciben nota mínima.\n",
    "- Puede usar herramientas de asistencia para responder su taller, pero debe adaptar el código al contexto que este taller exige.\n",
    "- Marque con una **X** si herramientas del tipo chatGPT para responder este taller: () Sí, () No.\n",
    "- No se revisarán entregas enviadas por Discord o correo electrónico.\n",
    "\n",
    "**Disponibilidad del Taller**\n",
    "- Desde: Lunes 2 de Octubre, 16:50.\n",
    "- Hasta: Miércoles 4 de Octubre: 23:00.\n",
    "\n",
    "**Hint**\n",
    "- Documente métodos y clases\n",
    "\n",
    "**Formato de entrega**\n",
    "- Apellido1-Apellido2-Apellido3.ipynb (ejecutable)\n",
    "- Apellido1-Apellido2-Apellido3.html\n",
    "- Solo 1 integrante sube el taller al campus virtual.\n",
    "- Crear respositorio GitHub: **https://github.com/Brokolito/taller2IAD.git**"
   ]
  },
  {
   "cell_type": "markdown",
   "metadata": {},
   "source": [
    "## Juego\n",
    "\n",
    "#### **Clases**\n",
    "- 1 clase denominada ``Dron``:\n",
    "    - representa un Dron en un juego de mesa.\n",
    "    - consta de dos parámetros que lo identifican: nombre y pisición.\n",
    "    - se inicializa en ``0,0`` con nombres ``Timon`` y ``Sid``\n",
    "\n",
    "- 1 clase denominada ``Tablero``:\n",
    "    - que representa un tablero de juego de mesa.\n",
    "    - tiene tamaño que se representa por: x e y.\n",
    "    - se inicializa en tamaño ``50,50``\n",
    "\n",
    "#### **Comportamiento**\n",
    "- El dron se mueve en 4 direcciones: arriba, abajo, izquierda, derecha\n",
    "- En el trablero, el dron puede lanzar bombas\n",
    "\n",
    "#### **Jugada**\n",
    "- Una juagada representa el juego en marcha.\n",
    "- Primero se mueven los drones en diferentes direcciones\n",
    "- Luego, cada dron lanza una bomba\n",
    "- Si la posición de la bomba lanzada por un dron coincide con la posicion del rival, entonces el dron gana."
   ]
  },
  {
   "cell_type": "markdown",
   "metadata": {},
   "source": [
    "#### 1 - Clase Dron\n",
    "\n",
    "- Cree la clase Dron\n",
    "- Implemente la clase.\n",
    "    - ``Dron``\n",
    "- Implemente los métodos\n",
    "    - ``mover_arriba``, ``mover_abajo``, ``mover_izquierda``, ``mover_arriba``, y  ``lanzar_bomba``."
   ]
  },
  {
   "cell_type": "code",
   "execution_count": 2,
   "metadata": {},
   "outputs": [],
   "source": [
    "# Su código acá\n",
    "#Se agrego en cada función de la clase dron un return que confirme si se realizo el movimiento; siendo 1 = realizado y 0 = no realizado \n",
    "class Dron():\n",
    "    def __init__(self,nombre,x=0,y=0):\n",
    "        self.x=x\n",
    "        self.y=y\n",
    "        self.nombre=nombre\n",
    "        \n",
    "    def mover_arriba(self,tablero):\n",
    "        if (self.y+1)<=tablero.y :\n",
    "            self.y+=1\n",
    "            print(f\"Se movio hacia arriba a x: {self.x} y: {self.y} la nave {self.nombre}\")\n",
    "            return 1\n",
    "        else:\n",
    "            print(f\"No se puede mover hacia arriba  la nave {self.nombre}\")\n",
    "            return 0\n",
    "            \n",
    "    def mover_abajo(self,tablero):\n",
    "        if (self.y-1)>=0 :\n",
    "            self.y-=1\n",
    "            print(f\"Se movio hacia abajo a x: {self.x} y: {self.y} la nave {self.nombre}\")\n",
    "            return 1\n",
    "        else:\n",
    "            print(f\"No se puede mover hacia abajo la nave {self.nombre}\")\n",
    "            return 0\n",
    "    def mover_izquierda(self,tablero):\n",
    "        if (self.x-1)>=0 :\n",
    "            self.x-=1\n",
    "            print(f\"Se movio a la izquierda a x: {self.x} y: {self.y} la nave {self.nombre}\")\n",
    "            return 1\n",
    "        else:\n",
    "            print(f\"No se puede mover a la izquierda la nave {self.nombre}\")\n",
    "            return 0\n",
    "        \n",
    "    def mover_derecha(self,tablero):\n",
    "        if (self.x+1)<=tablero.x : \n",
    "            self.x+=1\n",
    "            print(f\"Se movio a la derecha a x: {self.x} y: {self.y} la nave {self.nombre}\")\n",
    "            return 1\n",
    "        else:\n",
    "            print(f\"No se puede mover a la derecha la nave {self.nombre}\")\n",
    "            return 0\n",
    "\n",
    "# Se agrego un return boolean para confirmar el impacto de la bomba; donde true = impactó, false = no impactó y none = nulo\n",
    "    def lanzar_bomba(self,cordenadaX,cordenadaY,dronEnemigo):\n",
    "        if dronEnemigo.x==cordenadaX and dronEnemigo.y==cordenadaY:\n",
    "            print(f\"El dron {self.nombre} ha lanzado una bomba alcanzando la posicion del dron {dronEnemigo.nombre}, ha explotado el dron {dronEnemigo.nombre}\")\n",
    "            print(f\"La nave {self.nombre} ha ganado\")\n",
    "            return True\n",
    "        else:\n",
    "            print(f\"El dron {self.nombre} fallo disparando al dron {dronEnemigo.nombre} la bomba estallo en x: {cordenadaX} y: {cordenadaY}\")\n",
    "            return False\n",
    "        return None"
   ]
  },
  {
   "cell_type": "markdown",
   "metadata": {},
   "source": [
    "#### 2 - Clase Tablero\n",
    "\n",
    "- Implemente la clase Tablero\n",
    "    - tiene tamaño que se representa por: x e y.\n",
    "    - se inicializa en tamaño ``50,50``"
   ]
  },
  {
   "cell_type": "code",
   "execution_count": 3,
   "metadata": {},
   "outputs": [],
   "source": [
    "# Su código acá\n",
    "class Tablero:\n",
    "    def __init__(self,x=50,y=50):\n",
    "        self.x=x\n",
    "        self.y=y\n",
    "    "
   ]
  },
  {
   "cell_type": "markdown",
   "metadata": {},
   "source": [
    "#### 3 - Jugada\n",
    "\n",
    "- Implemente una jugada (con o sin clase)\n",
    "- Mueva los drones en cierta dirección.\n",
    "- Debe atacar lanzando bombas.\n",
    "- Uno de los drones debe ganar y hacer un anuncio al respecto."
   ]
  },
  {
   "cell_type": "code",
   "execution_count": 4,
   "metadata": {},
   "outputs": [
    {
     "name": "stdout",
     "output_type": "stream",
     "text": [
      "Se movio hacia arriba a x: 0 y: 1 la nave Timon\n",
      "Se movio hacia arriba a x: 0 y: 2 la nave Timon\n",
      "Se movio a la derecha a x: 1 y: 2 la nave Timon\n",
      "Se movio a la derecha a x: 2 y: 2 la nave Timon\n",
      "Se movio a la derecha a x: 3 y: 2 la nave Timon\n",
      "Se movio hacia arriba a x: 3 y: 3 la nave Timon\n",
      "Se movio hacia arriba a x: 0 y: 1 la nave Sid\n",
      "Se movio a la derecha a x: 1 y: 1 la nave Sid\n",
      "Se movio a la derecha a x: 2 y: 1 la nave Sid\n",
      "Se movio a la derecha a x: 3 y: 1 la nave Sid\n",
      "Se movio a la izquierda a x: 2 y: 1 la nave Sid\n",
      "El dron Sid fallo disparando al dron Timon la bomba estallo en x: 0 y: 0\n",
      "El dron Timon fallo disparando al dron Timon la bomba estallo en x: 1 y: 2\n",
      "El dron Sid ha lanzado una bomba alcanzando la posicion del dron Timon, ha explotado el dron Timon\n",
      "La nave Sid ha ganado\n"
     ]
    },
    {
     "data": {
      "text/plain": [
       "True"
      ]
     },
     "execution_count": 4,
     "metadata": {},
     "output_type": "execute_result"
    }
   ],
   "source": [
    "# Su código acá\n",
    "tablero=Tablero()\n",
    "dron1=Dron(nombre=\"Timon\")\n",
    "dron2=Dron(nombre=\"Sid\")\n",
    "\n",
    "dron1.mover_arriba(tablero)\n",
    "dron1.mover_arriba(tablero)\n",
    "dron1.mover_derecha(tablero)\n",
    "dron1.mover_derecha(tablero)\n",
    "dron1.mover_derecha(tablero)\n",
    "dron1.mover_arriba(tablero)\n",
    "\n",
    "dron2.mover_arriba(tablero)\n",
    "dron2.mover_derecha(tablero)\n",
    "dron2.mover_derecha(tablero)\n",
    "dron2.mover_derecha(tablero)\n",
    "dron2.mover_izquierda(tablero)\n",
    "\n",
    "dron2.lanzar_bomba(cordenadaX=0,cordenadaY=0,dronEnemigo=dron1)\n",
    "\n",
    "dron1.lanzar_bomba(cordenadaX=1,cordenadaY=2,dronEnemigo=dron1)\n",
    "\n",
    "dron2.lanzar_bomba(cordenadaX=dron1.y,cordenadaY=dron1.x,dronEnemigo=dron1)\n",
    "\n",
    "\n",
    "# Ningún dron ha ganado.\n",
    "# Posición final de Timon: (25, 25)\n",
    "# Posición final de Sid: (25, 26)"
   ]
  },
  {
   "cell_type": "code",
   "execution_count": 5,
   "metadata": {},
   "outputs": [
    {
     "name": "stderr",
     "output_type": "stream",
     "text": [
      "..."
     ]
    },
    {
     "name": "stdout",
     "output_type": "stream",
     "text": [
      "El dron XF99 ha lanzado una bomba alcanzando la posicion del dron G4039, ha explotado el dron G4039\n",
      "La nave XF99 ha ganado\n",
      "El dron G4039 fallo disparando al dron XF99 la bomba estallo en x: 1 y: 1\n",
      "Se movio a la derecha a x: 1 y: 0 la nave XF99\n",
      "Se movio hacia arriba a x: 1 y: 1 la nave XF99\n",
      "Se movio a la izquierda a x: 0 y: 1 la nave XF99\n",
      "Se movio hacia abajo a x: 0 y: 0 la nave XF99\n"
     ]
    },
    {
     "name": "stderr",
     "output_type": "stream",
     "text": [
      "\n",
      "----------------------------------------------------------------------\n",
      "Ran 3 tests in 0.003s\n",
      "\n",
      "OK\n"
     ]
    }
   ],
   "source": [
    "import unittest \n",
    "class dronTest(unittest.TestCase):\n",
    "    \n",
    "    #Función que realiza test a la creación de drones y el tablero de juego\n",
    "    def setUp(self):\n",
    "        self.dronNasa = Dron(\"XF99\")\n",
    "        self.dronEnemigo = Dron(\"G4039\")\n",
    "        self.tablero = Tablero()\n",
    "        \n",
    "    #Función que realiza test de posición inicial correcta\n",
    "    def test_dron_initial_position(self):\n",
    "        self.assertEqual(self.dronNasa.x, 0, \"x=0\")\n",
    "        self.assertEqual(self.dronNasa.y, 0, \"y=0\")\n",
    "        \n",
    "    #Función que realiza test a los movimientos del dron\n",
    "    def test_dron_movement(self):\n",
    "        self.assertEqual(self.dronNasa.mover_derecha(self.tablero), 1, \"Se espera que x=1\")\n",
    "        self.assertEqual(self.dronNasa.mover_arriba(self.tablero), 1, \"Se espera que y=1\")\n",
    "        self.assertEqual(self.dronNasa.mover_izquierda(self.tablero), 1, \"Se espera que x=0\")\n",
    "        self.assertEqual(self.dronNasa.mover_abajo(self.tablero), 1, \"Se espera que y=0\")\n",
    "        \n",
    "    #Función que realiza test a los ataques de los drones\n",
    "    def test_dron_attack(self):\n",
    "        self.assertEqual(self.dronNasa.lanzar_bomba(0,0,self.dronEnemigo), True, \"Se espera que se destruya al enemigo\")\n",
    "        self.assertEqual(self.dronEnemigo.lanzar_bomba(1,1,self.dronNasa), False, \"Se espera que el ataque falle\")\n",
    "if __name__ =='__main__':\n",
    "    unittest.main(argv=['first-args-is-ignored'], exit=False)"
   ]
  },
  {
   "cell_type": "code",
   "execution_count": null,
   "metadata": {},
   "outputs": [],
   "source": []
  },
  {
   "cell_type": "code",
   "execution_count": null,
   "metadata": {},
   "outputs": [],
   "source": []
  }
 ],
 "metadata": {
  "kernelspec": {
   "display_name": "Python 3 (ipykernel)",
   "language": "python",
   "name": "python3"
  },
  "language_info": {
   "codemirror_mode": {
    "name": "ipython",
    "version": 3
   },
   "file_extension": ".py",
   "mimetype": "text/x-python",
   "name": "python",
   "nbconvert_exporter": "python",
   "pygments_lexer": "ipython3",
   "version": "3.8.17"
  }
 },
 "nbformat": 4,
 "nbformat_minor": 4
}
